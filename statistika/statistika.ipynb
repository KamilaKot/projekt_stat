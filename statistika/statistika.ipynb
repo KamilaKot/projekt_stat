{
 "cells": [
  {
   "cell_type": "code",
   "execution_count": 1,
   "id": "c4b62636",
   "metadata": {},
   "outputs": [],
   "source": [
    "import pandas as pd\n",
    "import seaborn as sns\n",
    "from scipy import stats\n",
    "import numpy as np\n",
    "import statsmodels.api as sm\n",
    "import statsmodels.formula.api as smf\n",
    "import statsmodels.tools as tools\n",
    "import matplotlib.pyplot as plt"
   ]
  },
  {
   "cell_type": "markdown",
   "id": "30060b75",
   "metadata": {},
   "source": [
    "import souborů:"
   ]
  },
  {
   "cell_type": "code",
   "execution_count": 2,
   "id": "bfeb07bb",
   "metadata": {},
   "outputs": [],
   "source": [
    "data_prujezdy = pd.read_csv(\"points2.csv\")\n",
    "data_pocasi = pd.read_csv(\"out.c_projekt.pocasi.csv\")"
   ]
  },
  {
   "cell_type": "markdown",
   "id": "b028aa2a",
   "metadata": {},
   "source": [
    "úprava data typu u sloupců s datumovou hodnotou:"
   ]
  },
  {
   "cell_type": "code",
   "execution_count": 3,
   "id": "6d60ae72",
   "metadata": {},
   "outputs": [],
   "source": [
    "data_prujezdy[\"measured_from\"]=pd.to_datetime(data_prujezdy[\"measured_from\"]).dt.date\n",
    "data_pocasi[\"DATUM\"]=pd.to_datetime(data_pocasi[\"DATUM\"]).dt.date"
   ]
  },
  {
   "cell_type": "markdown",
   "id": "18aba0ef",
   "metadata": {},
   "source": [
    "spojení dvou tabulek:"
   ]
  },
  {
   "cell_type": "code",
   "execution_count": 4,
   "id": "1be10a76",
   "metadata": {},
   "outputs": [],
   "source": [
    "spojene_data = pd.merge(data_pocasi, data_prujezdy, left_on= \"DATUM\", right_on='measured_from', how='inner')"
   ]
  },
  {
   "cell_type": "markdown",
   "id": "7629870e",
   "metadata": {},
   "source": [
    "STATISTICKÁ ČÁST:"
   ]
  },
  {
   "cell_type": "code",
   "execution_count": 5,
   "id": "fb092dc7",
   "metadata": {},
   "outputs": [],
   "source": [
    "data = spojene_data[[\"value\", \"PRUMERNA_DENNI_TEPLOTA\", \"SOUHRN_SRAZEK_MM\", \"DELKA_SLUN_SVITU\",\"MAX_NARAZ_VETRU_M_S\",\"MAX_RYCHLOST_VETRU_M_S\"]]\n"
   ]
  },
  {
   "cell_type": "code",
   "execution_count": 6,
   "id": "b40fc8b9",
   "metadata": {},
   "outputs": [
    {
     "data": {
      "text/html": [
       "<div>\n",
       "<style scoped>\n",
       "    .dataframe tbody tr th:only-of-type {\n",
       "        vertical-align: middle;\n",
       "    }\n",
       "\n",
       "    .dataframe tbody tr th {\n",
       "        vertical-align: top;\n",
       "    }\n",
       "\n",
       "    .dataframe thead th {\n",
       "        text-align: right;\n",
       "    }\n",
       "</style>\n",
       "<table border=\"1\" class=\"dataframe\">\n",
       "  <thead>\n",
       "    <tr style=\"text-align: right;\">\n",
       "      <th></th>\n",
       "      <th>value</th>\n",
       "      <th>PRUMERNA_DENNI_TEPLOTA</th>\n",
       "      <th>SOUHRN_SRAZEK_MM</th>\n",
       "      <th>DELKA_SLUN_SVITU</th>\n",
       "      <th>MAX_NARAZ_VETRU_M_S</th>\n",
       "      <th>MAX_RYCHLOST_VETRU_M_S</th>\n",
       "    </tr>\n",
       "  </thead>\n",
       "  <tbody>\n",
       "    <tr>\n",
       "      <th>value</th>\n",
       "      <td>1.000000</td>\n",
       "      <td>0.339623</td>\n",
       "      <td>-0.078771</td>\n",
       "      <td>0.329285</td>\n",
       "      <td>-0.029839</td>\n",
       "      <td>-0.075254</td>\n",
       "    </tr>\n",
       "    <tr>\n",
       "      <th>PRUMERNA_DENNI_TEPLOTA</th>\n",
       "      <td>0.339623</td>\n",
       "      <td>1.000000</td>\n",
       "      <td>0.086137</td>\n",
       "      <td>0.608666</td>\n",
       "      <td>0.129560</td>\n",
       "      <td>0.061726</td>\n",
       "    </tr>\n",
       "    <tr>\n",
       "      <th>SOUHRN_SRAZEK_MM</th>\n",
       "      <td>-0.078771</td>\n",
       "      <td>0.086137</td>\n",
       "      <td>1.000000</td>\n",
       "      <td>-0.288940</td>\n",
       "      <td>0.225298</td>\n",
       "      <td>0.273963</td>\n",
       "    </tr>\n",
       "    <tr>\n",
       "      <th>DELKA_SLUN_SVITU</th>\n",
       "      <td>0.329285</td>\n",
       "      <td>0.608666</td>\n",
       "      <td>-0.288940</td>\n",
       "      <td>1.000000</td>\n",
       "      <td>-0.116041</td>\n",
       "      <td>-0.198760</td>\n",
       "    </tr>\n",
       "    <tr>\n",
       "      <th>MAX_NARAZ_VETRU_M_S</th>\n",
       "      <td>-0.029839</td>\n",
       "      <td>0.129560</td>\n",
       "      <td>0.225298</td>\n",
       "      <td>-0.116041</td>\n",
       "      <td>1.000000</td>\n",
       "      <td>0.751351</td>\n",
       "    </tr>\n",
       "    <tr>\n",
       "      <th>MAX_RYCHLOST_VETRU_M_S</th>\n",
       "      <td>-0.075254</td>\n",
       "      <td>0.061726</td>\n",
       "      <td>0.273963</td>\n",
       "      <td>-0.198760</td>\n",
       "      <td>0.751351</td>\n",
       "      <td>1.000000</td>\n",
       "    </tr>\n",
       "  </tbody>\n",
       "</table>\n",
       "</div>"
      ],
      "text/plain": [
       "                           value  PRUMERNA_DENNI_TEPLOTA  SOUHRN_SRAZEK_MM  \\\n",
       "value                   1.000000                0.339623         -0.078771   \n",
       "PRUMERNA_DENNI_TEPLOTA  0.339623                1.000000          0.086137   \n",
       "SOUHRN_SRAZEK_MM       -0.078771                0.086137          1.000000   \n",
       "DELKA_SLUN_SVITU        0.329285                0.608666         -0.288940   \n",
       "MAX_NARAZ_VETRU_M_S    -0.029839                0.129560          0.225298   \n",
       "MAX_RYCHLOST_VETRU_M_S -0.075254                0.061726          0.273963   \n",
       "\n",
       "                        DELKA_SLUN_SVITU  MAX_NARAZ_VETRU_M_S  \\\n",
       "value                           0.329285            -0.029839   \n",
       "PRUMERNA_DENNI_TEPLOTA          0.608666             0.129560   \n",
       "SOUHRN_SRAZEK_MM               -0.288940             0.225298   \n",
       "DELKA_SLUN_SVITU                1.000000            -0.116041   \n",
       "MAX_NARAZ_VETRU_M_S            -0.116041             1.000000   \n",
       "MAX_RYCHLOST_VETRU_M_S         -0.198760             0.751351   \n",
       "\n",
       "                        MAX_RYCHLOST_VETRU_M_S  \n",
       "value                                -0.075254  \n",
       "PRUMERNA_DENNI_TEPLOTA                0.061726  \n",
       "SOUHRN_SRAZEK_MM                      0.273963  \n",
       "DELKA_SLUN_SVITU                     -0.198760  \n",
       "MAX_NARAZ_VETRU_M_S                   0.751351  \n",
       "MAX_RYCHLOST_VETRU_M_S                1.000000  "
      ]
     },
     "execution_count": 6,
     "metadata": {},
     "output_type": "execute_result"
    }
   ],
   "source": [
    "data.corr()"
   ]
  },
  {
   "cell_type": "markdown",
   "id": "d733065f",
   "metadata": {},
   "source": [
    "    INTERPRETACE: \n",
    "            * korelace mezi počtem cyklistů a teplotou je, ale ta vazba není silná\n",
    "            * srážky negativně ovlivňují počet cyklistů, ale jen velmi slabě\n",
    "            * délka slunečního svitu má podobně silnou korelaci na počet cyklistů jako denní teplota\n",
    "            * nárazy větru a rychlos větru negativně ovlivňuje počet cyklistů ale stejně jako u srážek je to velmi slabá vazba\n"
   ]
  },
  {
   "cell_type": "code",
   "execution_count": 7,
   "id": "d8e69efd",
   "metadata": {},
   "outputs": [
    {
     "data": {
      "text/plain": [
       "np.float64(0.0)"
      ]
     },
     "execution_count": 7,
     "metadata": {},
     "output_type": "execute_result"
    }
   ],
   "source": [
    "stat, pval = stats.pearsonr(spojene_data[\"PRUMERNA_DENNI_TEPLOTA\"], spojene_data[\"value\"])\n",
    "pval"
   ]
  },
  {
   "cell_type": "markdown",
   "id": "2ffe6bb6",
   "metadata": {},
   "source": [
    "    INTERPRETACE:\n",
    "        * mezi dvěma koeficienty neexistuje korelace"
   ]
  },
  {
   "cell_type": "code",
   "execution_count": 8,
   "id": "3b9b22cf",
   "metadata": {},
   "outputs": [
    {
     "data": {
      "text/plain": [
       "np.float64(0.0)"
      ]
     },
     "execution_count": 8,
     "metadata": {},
     "output_type": "execute_result"
    }
   ],
   "source": [
    "stat, pval = stats.kendalltau(spojene_data[\"PRUMERNA_DENNI_TEPLOTA\"], spojene_data[\"value\"])\n",
    "pval"
   ]
  },
  {
   "cell_type": "markdown",
   "id": "3cc4df20",
   "metadata": {},
   "source": [
    "    INTERPRETACE:\n",
    "        * mezi dvěma koeficienty neexistuje korelace"
   ]
  },
  {
   "cell_type": "code",
   "execution_count": 9,
   "id": "97ce89fa",
   "metadata": {},
   "outputs": [
    {
     "data": {
      "image/png": "[encoded data removed]",
      "text/plain": [
       "<Figure size 640x480 with 1 Axes>"
      ]
     },
     "metadata": {},
     "output_type": "display_data"
    }
   ],
   "source": [
    "g = sns.regplot(data=spojene_data, x=\"PRUMERNA_DENNI_TEPLOTA\", y=\"value\", line_kws={\"color\": \"red\"}, ci=None)"
   ]
  },
  {
   "cell_type": "code",
   "execution_count": 10,
   "id": "b2df2bba",
   "metadata": {},
   "outputs": [
    {
     "data": {
      "text/html": [
       "<table class=\"simpletable\">\n",
       "<caption>OLS Regression Results</caption>\n",
       "<tr>\n",
       "  <th>Dep. Variable:</th>          <td>value</td>      <th>  R-squared:         </th>  <td>   0.115</td>  \n",
       "</tr>\n",
       "<tr>\n",
       "  <th>Model:</th>                   <td>OLS</td>       <th>  Adj. R-squared:    </th>  <td>   0.115</td>  \n",
       "</tr>\n",
       "<tr>\n",
       "  <th>Method:</th>             <td>Least Squares</td>  <th>  F-statistic:       </th>  <td>   7442.</td>  \n",
       "</tr>\n",
       "<tr>\n",
       "  <th>Date:</th>             <td>Fri, 23 May 2025</td> <th>  Prob (F-statistic):</th>   <td>  0.00</td>   \n",
       "</tr>\n",
       "<tr>\n",
       "  <th>Time:</th>                 <td>20:59:32</td>     <th>  Log-Likelihood:    </th> <td>-4.0528e+05</td>\n",
       "</tr>\n",
       "<tr>\n",
       "  <th>No. Observations:</th>      <td> 57084</td>      <th>  AIC:               </th>  <td>8.106e+05</td> \n",
       "</tr>\n",
       "<tr>\n",
       "  <th>Df Residuals:</th>          <td> 57082</td>      <th>  BIC:               </th>  <td>8.106e+05</td> \n",
       "</tr>\n",
       "<tr>\n",
       "  <th>Df Model:</th>              <td>     1</td>      <th>                     </th>      <td> </td>     \n",
       "</tr>\n",
       "<tr>\n",
       "  <th>Covariance Type:</th>      <td>nonrobust</td>    <th>                     </th>      <td> </td>     \n",
       "</tr>\n",
       "</table>\n",
       "<table class=\"simpletable\">\n",
       "<tr>\n",
       "             <td></td>               <th>coef</th>     <th>std err</th>      <th>t</th>      <th>P>|t|</th>  <th>[0.025</th>    <th>0.975]</th>  \n",
       "</tr>\n",
       "<tr>\n",
       "  <th>Intercept</th>              <td>   75.7707</td> <td>    2.075</td> <td>   36.512</td> <td> 0.000</td> <td>   71.703</td> <td>   79.838</td>\n",
       "</tr>\n",
       "<tr>\n",
       "  <th>PRUMERNA_DENNI_TEPLOTA</th> <td>   13.1602</td> <td>    0.153</td> <td>   86.270</td> <td> 0.000</td> <td>   12.861</td> <td>   13.459</td>\n",
       "</tr>\n",
       "</table>\n",
       "<table class=\"simpletable\">\n",
       "<tr>\n",
       "  <th>Omnibus:</th>       <td>31946.950</td> <th>  Durbin-Watson:     </th>  <td>   1.825</td> \n",
       "</tr>\n",
       "<tr>\n",
       "  <th>Prob(Omnibus):</th>  <td> 0.000</td>   <th>  Jarque-Bera (JB):  </th> <td>310948.157</td>\n",
       "</tr>\n",
       "<tr>\n",
       "  <th>Skew:</th>           <td> 2.554</td>   <th>  Prob(JB):          </th>  <td>    0.00</td> \n",
       "</tr>\n",
       "<tr>\n",
       "  <th>Kurtosis:</th>       <td>13.230</td>   <th>  Cond. No.          </th>  <td>    23.1</td> \n",
       "</tr>\n",
       "</table><br/><br/>Notes:<br/>[1] Standard Errors assume that the covariance matrix of the errors is correctly specified."
      ],
      "text/latex": [
       "\\begin{center}\n",
       "\\begin{tabular}{lclc}\n",
       "\\toprule\n",
       "\\textbf{Dep. Variable:}           &      value       & \\textbf{  R-squared:         } &      0.115   \\\\\n",
       "\\textbf{Model:}                   &       OLS        & \\textbf{  Adj. R-squared:    } &      0.115   \\\\\n",
       "\\textbf{Method:}                  &  Least Squares   & \\textbf{  F-statistic:       } &      7442.   \\\\\n",
       "\\textbf{Date:}                    & Fri, 23 May 2025 & \\textbf{  Prob (F-statistic):} &      0.00    \\\\\n",
       "\\textbf{Time:}                    &     20:59:32     & \\textbf{  Log-Likelihood:    } & -4.0528e+05  \\\\\n",
       "\\textbf{No. Observations:}        &       57084      & \\textbf{  AIC:               } &  8.106e+05   \\\\\n",
       "\\textbf{Df Residuals:}            &       57082      & \\textbf{  BIC:               } &  8.106e+05   \\\\\n",
       "\\textbf{Df Model:}                &           1      & \\textbf{                     } &              \\\\\n",
       "\\textbf{Covariance Type:}         &    nonrobust     & \\textbf{                     } &              \\\\\n",
       "\\bottomrule\n",
       "\\end{tabular}\n",
       "\\begin{tabular}{lcccccc}\n",
       "                                  & \\textbf{coef} & \\textbf{std err} & \\textbf{t} & \\textbf{P$> |$t$|$} & \\textbf{[0.025} & \\textbf{0.975]}  \\\\\n",
       "\\midrule\n",
       "\\textbf{Intercept}                &      75.7707  &        2.075     &    36.512  &         0.000        &       71.703    &       79.838     \\\\\n",
       "\\textbf{PRUMERNA\\_DENNI\\_TEPLOTA} &      13.1602  &        0.153     &    86.270  &         0.000        &       12.861    &       13.459     \\\\\n",
       "\\bottomrule\n",
       "\\end{tabular}\n",
       "\\begin{tabular}{lclc}\n",
       "\\textbf{Omnibus:}       & 31946.950 & \\textbf{  Durbin-Watson:     } &     1.825   \\\\\n",
       "\\textbf{Prob(Omnibus):} &    0.000  & \\textbf{  Jarque-Bera (JB):  } & 310948.157  \\\\\n",
       "\\textbf{Skew:}          &    2.554  & \\textbf{  Prob(JB):          } &      0.00   \\\\\n",
       "\\textbf{Kurtosis:}      &   13.230  & \\textbf{  Cond. No.          } &      23.1   \\\\\n",
       "\\bottomrule\n",
       "\\end{tabular}\n",
       "%\\caption{OLS Regression Results}\n",
       "\\end{center}\n",
       "\n",
       "Notes: \\newline\n",
       " [1] Standard Errors assume that the covariance matrix of the errors is correctly specified."
      ],
      "text/plain": [
       "<class 'statsmodels.iolib.summary.Summary'>\n",
       "\"\"\"\n",
       "                            OLS Regression Results                            \n",
       "==============================================================================\n",
       "Dep. Variable:                  value   R-squared:                       0.115\n",
       "Model:                            OLS   Adj. R-squared:                  0.115\n",
       "Method:                 Least Squares   F-statistic:                     7442.\n",
       "Date:                Fri, 23 May 2025   Prob (F-statistic):               0.00\n",
       "Time:                        20:59:32   Log-Likelihood:            -4.0528e+05\n",
       "No. Observations:               57084   AIC:                         8.106e+05\n",
       "Df Residuals:                   57082   BIC:                         8.106e+05\n",
       "Df Model:                           1                                         \n",
       "Covariance Type:            nonrobust                                         \n",
       "==========================================================================================\n",
       "                             coef    std err          t      P>|t|      [0.025      0.975]\n",
       "------------------------------------------------------------------------------------------\n",
       "Intercept                 75.7707      2.075     36.512      0.000      71.703      79.838\n",
       "PRUMERNA_DENNI_TEPLOTA    13.1602      0.153     86.270      0.000      12.861      13.459\n",
       "==============================================================================\n",
       "Omnibus:                    31946.950   Durbin-Watson:                   1.825\n",
       "Prob(Omnibus):                  0.000   Jarque-Bera (JB):           310948.157\n",
       "Skew:                           2.554   Prob(JB):                         0.00\n",
       "Kurtosis:                      13.230   Cond. No.                         23.1\n",
       "==============================================================================\n",
       "\n",
       "Notes:\n",
       "[1] Standard Errors assume that the covariance matrix of the errors is correctly specified.\n",
       "\"\"\""
      ]
     },
     "execution_count": 10,
     "metadata": {},
     "output_type": "execute_result"
    }
   ],
   "source": [
    "res = smf.ols(formula=\"value  ~  PRUMERNA_DENNI_TEPLOTA\", data=spojene_data).fit()\n",
    "res.summary()"
   ]
  },
  {
   "cell_type": "markdown",
   "id": "5eaac061",
   "metadata": {},
   "source": [
    "    INTERPRETACE:\n",
    "        * v případě, že teplota bude 0°C bude 75 cyklistů\n",
    "        * a pokud by se teplota zvýšila o 1°C pak by přibylo 13 cyklistů\n",
    "\n",
    "zde mi výsledky ale nedávají smysl, jelikož tak málo cyklistů nikdy nejezdilo, je tady tady ta 0°C správná hodnota?"
   ]
  },
  {
   "cell_type": "code",
   "execution_count": 11,
   "id": "0c1f775e",
   "metadata": {},
   "outputs": [
    {
     "data": {
      "text/plain": [
       "0    88.93083\n",
       "dtype: float64"
      ]
     },
     "execution_count": 11,
     "metadata": {},
     "output_type": "execute_result"
    }
   ],
   "source": [
    "new_data = pd.DataFrame({\"PRUMERNA_DENNI_TEPLOTA\": [1]})\n",
    "predicted_yield = res.predict(new_data)\n",
    "predicted_yield"
   ]
  },
  {
   "cell_type": "code",
   "execution_count": 12,
   "id": "f6fb105f",
   "metadata": {},
   "outputs": [
    {
     "data": {
      "text/html": [
       "<table class=\"simpletable\">\n",
       "<caption>OLS Regression Results</caption>\n",
       "<tr>\n",
       "  <th>Dep. Variable:</th>          <td>value</td>      <th>  R-squared:         </th>  <td>   0.143</td>  \n",
       "</tr>\n",
       "<tr>\n",
       "  <th>Model:</th>                   <td>OLS</td>       <th>  Adj. R-squared:    </th>  <td>   0.143</td>  \n",
       "</tr>\n",
       "<tr>\n",
       "  <th>Method:</th>             <td>Least Squares</td>  <th>  F-statistic:       </th>  <td>   1912.</td>  \n",
       "</tr>\n",
       "<tr>\n",
       "  <th>Date:</th>             <td>Fri, 23 May 2025</td> <th>  Prob (F-statistic):</th>   <td>  0.00</td>   \n",
       "</tr>\n",
       "<tr>\n",
       "  <th>Time:</th>                 <td>20:59:32</td>     <th>  Log-Likelihood:    </th> <td>-4.0436e+05</td>\n",
       "</tr>\n",
       "<tr>\n",
       "  <th>No. Observations:</th>      <td> 57084</td>      <th>  AIC:               </th>  <td>8.087e+05</td> \n",
       "</tr>\n",
       "<tr>\n",
       "  <th>Df Residuals:</th>          <td> 57078</td>      <th>  BIC:               </th>  <td>8.088e+05</td> \n",
       "</tr>\n",
       "<tr>\n",
       "  <th>Df Model:</th>              <td>     5</td>      <th>                     </th>      <td> </td>     \n",
       "</tr>\n",
       "<tr>\n",
       "  <th>Covariance Type:</th>      <td>nonrobust</td>    <th>                     </th>      <td> </td>     \n",
       "</tr>\n",
       "</table>\n",
       "<table class=\"simpletable\">\n",
       "<tr>\n",
       "             <td></td>               <th>coef</th>     <th>std err</th>      <th>t</th>      <th>P>|t|</th>  <th>[0.025</th>    <th>0.975]</th>  \n",
       "</tr>\n",
       "<tr>\n",
       "  <th>Intercept</th>              <td>   76.2558</td> <td>    5.602</td> <td>   13.611</td> <td> 0.000</td> <td>   65.275</td> <td>   87.237</td>\n",
       "</tr>\n",
       "<tr>\n",
       "  <th>PRUMERNA_DENNI_TEPLOTA</th> <td>    9.7962</td> <td>    0.206</td> <td>   47.586</td> <td> 0.000</td> <td>    9.393</td> <td>   10.200</td>\n",
       "</tr>\n",
       "<tr>\n",
       "  <th>SOUHRN_SRAZEK_MM</th>       <td>   -3.5800</td> <td>    0.364</td> <td>   -9.844</td> <td> 0.000</td> <td>   -4.293</td> <td>   -2.867</td>\n",
       "</tr>\n",
       "<tr>\n",
       "  <th>DELKA_SLUN_SVITU</th>       <td>   10.6951</td> <td>    0.387</td> <td>   27.661</td> <td> 0.000</td> <td>    9.937</td> <td>   11.453</td>\n",
       "</tr>\n",
       "<tr>\n",
       "  <th>MAX_NARAZ_VETRU_M_S</th>    <td>    0.4672</td> <td>    0.855</td> <td>    0.547</td> <td> 0.585</td> <td>   -1.208</td> <td>    2.143</td>\n",
       "</tr>\n",
       "<tr>\n",
       "  <th>MAX_RYCHLOST_VETRU_M_S</th> <td>   -8.2344</td> <td>    0.969</td> <td>   -8.500</td> <td> 0.000</td> <td>  -10.133</td> <td>   -6.336</td>\n",
       "</tr>\n",
       "</table>\n",
       "<table class=\"simpletable\">\n",
       "<tr>\n",
       "  <th>Omnibus:</th>       <td>31046.125</td> <th>  Durbin-Watson:     </th>  <td>   1.883</td> \n",
       "</tr>\n",
       "<tr>\n",
       "  <th>Prob(Omnibus):</th>  <td> 0.000</td>   <th>  Jarque-Bera (JB):  </th> <td>295971.961</td>\n",
       "</tr>\n",
       "<tr>\n",
       "  <th>Skew:</th>           <td> 2.466</td>   <th>  Prob(JB):          </th>  <td>    0.00</td> \n",
       "</tr>\n",
       "<tr>\n",
       "  <th>Kurtosis:</th>       <td>13.005</td>   <th>  Cond. No.          </th>  <td>    84.7</td> \n",
       "</tr>\n",
       "</table><br/><br/>Notes:<br/>[1] Standard Errors assume that the covariance matrix of the errors is correctly specified."
      ],
      "text/latex": [
       "\\begin{center}\n",
       "\\begin{tabular}{lclc}\n",
       "\\toprule\n",
       "\\textbf{Dep. Variable:}             &      value       & \\textbf{  R-squared:         } &      0.143   \\\\\n",
       "\\textbf{Model:}                     &       OLS        & \\textbf{  Adj. R-squared:    } &      0.143   \\\\\n",
       "\\textbf{Method:}                    &  Least Squares   & \\textbf{  F-statistic:       } &      1912.   \\\\\n",
       "\\textbf{Date:}                      & Fri, 23 May 2025 & \\textbf{  Prob (F-statistic):} &      0.00    \\\\\n",
       "\\textbf{Time:}                      &     20:59:32     & \\textbf{  Log-Likelihood:    } & -4.0436e+05  \\\\\n",
       "\\textbf{No. Observations:}          &       57084      & \\textbf{  AIC:               } &  8.087e+05   \\\\\n",
       "\\textbf{Df Residuals:}              &       57078      & \\textbf{  BIC:               } &  8.088e+05   \\\\\n",
       "\\textbf{Df Model:}                  &           5      & \\textbf{                     } &              \\\\\n",
       "\\textbf{Covariance Type:}           &    nonrobust     & \\textbf{                     } &              \\\\\n",
       "\\bottomrule\n",
       "\\end{tabular}\n",
       "\\begin{tabular}{lcccccc}\n",
       "                                    & \\textbf{coef} & \\textbf{std err} & \\textbf{t} & \\textbf{P$> |$t$|$} & \\textbf{[0.025} & \\textbf{0.975]}  \\\\\n",
       "\\midrule\n",
       "\\textbf{Intercept}                  &      76.2558  &        5.602     &    13.611  &         0.000        &       65.275    &       87.237     \\\\\n",
       "\\textbf{PRUMERNA\\_DENNI\\_TEPLOTA}   &       9.7962  &        0.206     &    47.586  &         0.000        &        9.393    &       10.200     \\\\\n",
       "\\textbf{SOUHRN\\_SRAZEK\\_MM}         &      -3.5800  &        0.364     &    -9.844  &         0.000        &       -4.293    &       -2.867     \\\\\n",
       "\\textbf{DELKA\\_SLUN\\_SVITU}         &      10.6951  &        0.387     &    27.661  &         0.000        &        9.937    &       11.453     \\\\\n",
       "\\textbf{MAX\\_NARAZ\\_VETRU\\_M\\_S}    &       0.4672  &        0.855     &     0.547  &         0.585        &       -1.208    &        2.143     \\\\\n",
       "\\textbf{MAX\\_RYCHLOST\\_VETRU\\_M\\_S} &      -8.2344  &        0.969     &    -8.500  &         0.000        &      -10.133    &       -6.336     \\\\\n",
       "\\bottomrule\n",
       "\\end{tabular}\n",
       "\\begin{tabular}{lclc}\n",
       "\\textbf{Omnibus:}       & 31046.125 & \\textbf{  Durbin-Watson:     } &     1.883   \\\\\n",
       "\\textbf{Prob(Omnibus):} &    0.000  & \\textbf{  Jarque-Bera (JB):  } & 295971.961  \\\\\n",
       "\\textbf{Skew:}          &    2.466  & \\textbf{  Prob(JB):          } &      0.00   \\\\\n",
       "\\textbf{Kurtosis:}      &   13.005  & \\textbf{  Cond. No.          } &      84.7   \\\\\n",
       "\\bottomrule\n",
       "\\end{tabular}\n",
       "%\\caption{OLS Regression Results}\n",
       "\\end{center}\n",
       "\n",
       "Notes: \\newline\n",
       " [1] Standard Errors assume that the covariance matrix of the errors is correctly specified."
      ],
      "text/plain": [
       "<class 'statsmodels.iolib.summary.Summary'>\n",
       "\"\"\"\n",
       "                            OLS Regression Results                            \n",
       "==============================================================================\n",
       "Dep. Variable:                  value   R-squared:                       0.143\n",
       "Model:                            OLS   Adj. R-squared:                  0.143\n",
       "Method:                 Least Squares   F-statistic:                     1912.\n",
       "Date:                Fri, 23 May 2025   Prob (F-statistic):               0.00\n",
       "Time:                        20:59:32   Log-Likelihood:            -4.0436e+05\n",
       "No. Observations:               57084   AIC:                         8.087e+05\n",
       "Df Residuals:                   57078   BIC:                         8.088e+05\n",
       "Df Model:                           5                                         \n",
       "Covariance Type:            nonrobust                                         \n",
       "==========================================================================================\n",
       "                             coef    std err          t      P>|t|      [0.025      0.975]\n",
       "------------------------------------------------------------------------------------------\n",
       "Intercept                 76.2558      5.602     13.611      0.000      65.275      87.237\n",
       "PRUMERNA_DENNI_TEPLOTA     9.7962      0.206     47.586      0.000       9.393      10.200\n",
       "SOUHRN_SRAZEK_MM          -3.5800      0.364     -9.844      0.000      -4.293      -2.867\n",
       "DELKA_SLUN_SVITU          10.6951      0.387     27.661      0.000       9.937      11.453\n",
       "MAX_NARAZ_VETRU_M_S        0.4672      0.855      0.547      0.585      -1.208       2.143\n",
       "MAX_RYCHLOST_VETRU_M_S    -8.2344      0.969     -8.500      0.000     -10.133      -6.336\n",
       "==============================================================================\n",
       "Omnibus:                    31046.125   Durbin-Watson:                   1.883\n",
       "Prob(Omnibus):                  0.000   Jarque-Bera (JB):           295971.961\n",
       "Skew:                           2.466   Prob(JB):                         0.00\n",
       "Kurtosis:                      13.005   Cond. No.                         84.7\n",
       "==============================================================================\n",
       "\n",
       "Notes:\n",
       "[1] Standard Errors assume that the covariance matrix of the errors is correctly specified.\n",
       "\"\"\""
      ]
     },
     "execution_count": 12,
     "metadata": {},
     "output_type": "execute_result"
    }
   ],
   "source": [
    "res = smf.ols(formula=\"value  ~ PRUMERNA_DENNI_TEPLOTA + SOUHRN_SRAZEK_MM + DELKA_SLUN_SVITU + MAX_NARAZ_VETRU_M_S + MAX_RYCHLOST_VETRU_M_S\", data=spojene_data).fit()\n",
    "res.summary()"
   ]
  },
  {
   "cell_type": "markdown",
   "id": "4d2c7594",
   "metadata": {},
   "source": [
    "RUMERNA_DENNI_TEPLOTA\t0.339623\t1.000000\t0.086137\t0.608666\t0.129560\t0.061726\n",
    "SOUHRN_SRAZEK_MM\t-0.078771\t0.086137\t1.000000\t-0.288940\t0.225298\t0.273963\n",
    "DELKA_SLUN_SVITU\t0.329285\t0.608666\t-0.288940\t1.000000\t-0.116041\t-0.198760\n",
    "MAX_NARAZ_VETRU_M_S\t-0.029839\t0.129560\t0.225298\t-0.116041\t1.000000\t0.751351\n",
    "MAX_RYCHLOST_VETRU_M_S"
   ]
  },
  {
   "cell_type": "markdown",
   "id": "75d2c9b6",
   "metadata": {},
   "source": [
    "    INTERPRETACE:\n",
    "        * když vezmeme v potaz více proměných tak na počet cyklistů má větší vliv délka slunečního svitu než průměrná denní teplota\n",
    "        * maximální rychlost větru negativně ovluvňuje počet cyklistů stejně silně jako průměrná denní teplota pozitivně"
   ]
  }
 ],
 "metadata": {
  "kernelspec": {
   "display_name": ".venv",
   "language": "python",
   "name": "python3"
  },
  "language_info": {
   "codemirror_mode": {
    "name": "ipython",
    "version": 3
   },
   "file_extension": ".py",
   "mimetype": "text/x-python",
   "name": "python",
   "nbconvert_exporter": "python",
   "pygments_lexer": "ipython3",
   "version": "3.13.3"
  }
 },
 "nbformat": 4,
 "nbformat_minor": 5
}
